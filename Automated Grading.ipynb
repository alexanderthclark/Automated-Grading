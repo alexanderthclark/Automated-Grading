{
 "cells": [
  {
   "cell_type": "markdown",
   "id": "10909f63",
   "metadata": {},
   "source": [
    "# Auto Grading Example\n",
    "\n",
    "This can be put in a loop to grade for an entire class. Use the `reload` module if necessary for re-importing other modules. "
   ]
  },
  {
   "cell_type": "code",
   "execution_count": 1,
   "id": "b7e8f339",
   "metadata": {},
   "outputs": [],
   "source": [
    "import pandas as pd\n",
    "import numpy as np\n",
    "import os\n",
    "import sys\n",
    "from IPython.display import clear_output\n",
    "from pylatexenc.latexencode import unicode_to_latex\n",
    "from latex_utils import make_preamble, end\n",
    "from grading_utils import highlight_wrong, test_function, programming_output"
   ]
  },
  {
   "cell_type": "markdown",
   "id": "3b07a6d2",
   "metadata": {},
   "source": [
    "# Student Input and Grading"
   ]
  },
  {
   "cell_type": "code",
   "execution_count": 2,
   "id": "8a2c3d93",
   "metadata": {},
   "outputs": [],
   "source": [
    "# MC Solutions\n",
    "mc_solutions = np.random.choice(list('abcd'), size = 10)\n",
    "mc_sol_series = pd.Series(mc_solutions)\n",
    "mc_sol_series.name = 'solutions'"
   ]
  },
  {
   "cell_type": "code",
   "execution_count": 3,
   "id": "62bcfa23",
   "metadata": {},
   "outputs": [],
   "source": [
    "# Grading\n",
    "\n",
    "## Multiple choice\n",
    "\n",
    "# start body for latex document\n",
    "body = r\"\"\"\n",
    "\\section{Multiple Choice}\n",
    "\"\"\"\n",
    "\n",
    "student_mc = pd.read_csv(\"student_answers.csv\")\n",
    "student_mc = student_mc.join(mc_sol_series)\n",
    "student_mc.index.name = 'question'\n",
    "\n",
    "n_correct = (student_mc['student_answer'] == mc_sol_series).sum()\n",
    "n = len(mc_sol_series)\n",
    "\n",
    "# make column strings latex-safe\n",
    "student_mc.columns = [unicode_to_latex(s) for s in student_mc.columns]\n",
    "\n",
    "# highlight incorrect answers in red\n",
    "styled_student_mc = student_mc.style.apply(highlight_wrong, props='cellcolor:{red!30}', \n",
    "                  solutions = mc_sol_series, axis=0, subset = ['student\\\\_answer'])\n",
    "\n",
    "# add table and score to document body\n",
    "body += styled_student_mc.to_latex(hrules = True)\n",
    "body += fr\"\"\"\\smallskip\n",
    "\n",
    "\\noindent Correct: {n_correct} of {n}\"\"\"\n",
    "\n",
    "\n",
    "## Programming\n",
    "\n",
    "body += r\"\"\"\n",
    "\\section{Programming}\n",
    "\\subsection*{Question 0}\n",
    "\"\"\"\n",
    "\n",
    "### Question 0\n",
    "from function0 import addition as temp\n",
    "from function0_answer import addition as temp_answer\n",
    "test_inputs = [(1,2), (-1,1), (0,0), (10**2, 0)]\n",
    "\n",
    "# add testing results and print submission and solution code\n",
    "body = programming_output(temp, temp_answer, test_inputs, body)\n",
    "\n",
    "### Question 1\n",
    "body += r\"\"\"\n",
    "\\subsection*{Question 1}\n",
    "\"\"\"\n",
    "\n",
    "from function1 import prime_floor as temp\n",
    "from function1_answer import prime_floor as temp_answer\n",
    "test_inputs = np.random.choice(range(3,1000), size = 4)\n",
    "\n",
    "# add testing results and print submission and solution code\n",
    "body = programming_output(temp, temp_answer, test_inputs, body)"
   ]
  },
  {
   "cell_type": "markdown",
   "id": "78cc50df",
   "metadata": {},
   "source": [
    "# LaTeX "
   ]
  },
  {
   "cell_type": "code",
   "execution_count": 4,
   "id": "6d85cffe",
   "metadata": {},
   "outputs": [],
   "source": [
    "student = 'William Gosset'\n",
    "preamble = make_preamble(student)\n",
    "doc = preamble + body + end"
   ]
  },
  {
   "cell_type": "code",
   "execution_count": 5,
   "id": "24ca12e6",
   "metadata": {},
   "outputs": [],
   "source": [
    "student2 = student.replace(\" \",'_').lower()\n",
    "filename = f'{student2}_exam_report'\n",
    "\n",
    "with open(filename + \".tex\", 'w') as tf:\n",
    "    tf.write(doc)\n",
    "\n",
    "#os.system(\"open \" + filename + \".tex\")\n",
    "os.system(\"pdflatex \" + filename + \".tex\")\n",
    "os.system(\"pdflatex \" + filename + \".tex\")\n",
    "for suffix in ['.aux','.log']:\n",
    "    os.system(\"rm \" + filename + suffix)\n",
    "os.system(\"open \" + filename + \".pdf\")\n",
    "\n",
    "clear_output()"
   ]
  },
  {
   "cell_type": "code",
   "execution_count": null,
   "id": "ddc35863",
   "metadata": {},
   "outputs": [],
   "source": []
  }
 ],
 "metadata": {
  "kernelspec": {
   "display_name": "Python 3 (ipykernel)",
   "language": "python",
   "name": "python3"
  },
  "language_info": {
   "codemirror_mode": {
    "name": "ipython",
    "version": 3
   },
   "file_extension": ".py",
   "mimetype": "text/x-python",
   "name": "python",
   "nbconvert_exporter": "python",
   "pygments_lexer": "ipython3",
   "version": "3.9.7"
  }
 },
 "nbformat": 4,
 "nbformat_minor": 5
}
